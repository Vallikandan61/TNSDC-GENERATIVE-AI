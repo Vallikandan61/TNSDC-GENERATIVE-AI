{
  "nbformat": 4,
  "nbformat_minor": 0,
  "metadata": {
    "colab": {
      "provenance": []
    },
    "kernelspec": {
      "name": "python3",
      "display_name": "Python 3"
    },
    "language_info": {
      "name": "python"
    }
  },
  "cells": [
    {
      "cell_type": "code",
      "execution_count": 2,
      "metadata": {
        "colab": {
          "base_uri": "https://localhost:8080/"
        },
        "id": "1UcMcsaTQIlv",
        "outputId": "f360b2f8-7fcd-4a6a-91b3-9ab5307ba2cb"
      },
      "outputs": [
        {
          "output_type": "stream",
          "name": "stdout",
          "text": [
            "Random Fact:  Octopuses have three hearts.\n"
          ]
        }
      ],
      "source": [
        "import random\n",
        "\n",
        "# Define a dictionary of facts with categories\n",
        "fact_categories = {\n",
        "    \"History\": [\n",
        "        \"The Great Wall of China is visible from space.\",\n",
        "        \"The shortest war in history lasted only 38 minutes.\",\n",
        "        \"The first email was sent in 1971.\"\n",
        "    ],\n",
        "    \"Science\": [\n",
        "        \"The Earth is approximately 4.5 billion years old.\",\n",
        "        \"Octopuses have three hearts.\",\n",
        "        \"The human brain contains about 86 billion neurons.\",\n",
        "        \"Honey never spoils.\"\n",
        "    ],\n",
        "    \"Miscellaneous\": [\n",
        "        \"The Eiffel Tower can be 15 cm taller during the summer.\",\n",
        "        \"A group of flamingos is called a 'flamboyance'.\",\n",
        "        \"The first computer virus was created in 1983.\",\n",
        "        \"The world's oldest known recipe is for beer.\"\n",
        "    ]\n",
        "}\n",
        "\n",
        "# Function to generate a random fact from a specified category\n",
        "def generate_random_fact(category=None):\n",
        "    if category:\n",
        "        facts = fact_categories.get(category, [])\n",
        "    else:\n",
        "        # If no category is specified, select from all facts\n",
        "        facts = [fact for sublist in fact_categories.values() for fact in sublist]\n",
        "    if facts:\n",
        "        return random.choice(facts)\n",
        "    else:\n",
        "        return \"No facts found for the specified category.\"\n",
        "\n",
        "# Generate and print a random fact\n",
        "print(\"Random Fact: \", generate_random_fact())\n"
      ]
    },
    {
      "cell_type": "code",
      "source": [
        "import random\n",
        "\n",
        "# Define a dictionary of facts with categories\n",
        "fact_categories = {\n",
        "    \"History\": [\n",
        "        \"The Great Wall of China is visible from space.\",\n",
        "        \"The shortest war in history lasted only 38 minutes.\",\n",
        "        \"The first email was sent in 1971.\"\n",
        "    ],\n",
        "    \"Science\": [\n",
        "        \"The Earth is approximately 4.5 billion years old.\",\n",
        "        \"Octopuses have three hearts.\",\n",
        "        \"The human brain contains about 86 billion neurons.\",\n",
        "        \"Honey never spoils.\"\n",
        "    ],\n",
        "    \"Miscellaneous\": [\n",
        "        \"The Eiffel Tower can be 15 cm taller during the summer.\",\n",
        "        \"A group of flamingos is called a 'flamboyance'.\",\n",
        "        \"The first computer virus was created in 1983.\",\n",
        "        \"The world's oldest known recipe is for beer.\"\n",
        "    ]\n",
        "}\n",
        "\n",
        "# Function to generate multiple random facts from a specified category\n",
        "def generate_random_facts(category=None, num_facts=1):\n",
        "    facts = []\n",
        "    if category:\n",
        "        facts_list = fact_categories.get(category, [])\n",
        "    else:\n",
        "        # If no category is specified, select from all facts\n",
        "        facts_list = [fact for sublist in fact_categories.values() for fact in sublist]\n",
        "\n",
        "    if not facts_list:\n",
        "        return [\"No facts found for the specified category.\"]\n",
        "\n",
        "    for _ in range(num_facts):\n",
        "        facts.append(random.choice(facts_list))\n",
        "    return facts\n",
        "\n",
        "# Function to display facts with category and index\n",
        "def display_facts_with_category(facts):\n",
        "    for i, fact in enumerate(facts):\n",
        "        print(f\"Fact {i+1}: {fact}\")\n",
        "\n",
        "# Get user input for category and number of facts\n",
        "category = input(\"Enter a category (History, Science, Miscellaneous), or leave blank for all categories: \").strip().title()\n",
        "num_facts = input(\"Enter the number of facts you want: \")\n",
        "try:\n",
        "    num_facts = int(num_facts)\n",
        "except ValueError:\n",
        "    num_facts = 1\n",
        "\n",
        "# Generate and display random facts\n",
        "if category not in fact_categories.keys() and category != \"\":\n",
        "    print(\"Invalid category. Please choose from History, Science, or Miscellaneous.\")\n",
        "else:\n",
        "    facts = generate_random_facts(category, num_facts)\n",
        "    print(\"\\nRandom Facts:\")\n",
        "    display_facts_with_category(facts)"
      ],
      "metadata": {
        "colab": {
          "base_uri": "https://localhost:8080/"
        },
        "id": "z4u6zrIkRpuV",
        "outputId": "de9d35e0-5d42-419d-bc7e-46565677c34f"
      },
      "execution_count": 3,
      "outputs": [
        {
          "output_type": "stream",
          "name": "stdout",
          "text": [
            "Enter a category (History, Science, Miscellaneous), or leave blank for all categories: History\n",
            "Enter the number of facts you want: 4\n",
            "\n",
            "Random Facts:\n",
            "Fact 1: The shortest war in history lasted only 38 minutes.\n",
            "Fact 2: The shortest war in history lasted only 38 minutes.\n",
            "Fact 3: The Great Wall of China is visible from space.\n",
            "Fact 4: The shortest war in history lasted only 38 minutes.\n"
          ]
        }
      ]
    },
    {
      "cell_type": "code",
      "source": [
        "import random\n",
        "\n",
        "# Define a dictionary of facts with categories\n",
        "fact_categories = {\n",
        "    \"History\": [\n",
        "        \"The Great Wall of China is visible from space.\",\n",
        "        \"The shortest war in history lasted only 38 minutes.\",\n",
        "        \"The first email was sent in 1971.\"\n",
        "    ],\n",
        "    \"Science\": [\n",
        "        \"The Earth is approximately 4.5 billion years old.\",\n",
        "        \"Octopuses have three hearts.\",\n",
        "        \"The human brain contains about 86 billion neurons.\",\n",
        "        \"Honey never spoils.\"\n",
        "    ],\n",
        "    \"Miscellaneous\": [\n",
        "        \"The Eiffel Tower can be 15 cm taller during the summer.\",\n",
        "        \"A group of flamingos is called a 'flamboyance'.\",\n",
        "        \"The first computer virus was created in 1983.\",\n",
        "        \"The world's oldest known recipe is for beer.\"\n",
        "    ]\n",
        "}\n",
        "\n",
        "# Function to generate multiple random facts from a specified category\n",
        "def generate_random_facts(category=None, num_facts=1):\n",
        "    facts = []\n",
        "    if category:\n",
        "        facts_list = fact_categories.get(category, [])\n",
        "    else:\n",
        "        # If no category is specified, select from all facts\n",
        "        facts_list = [fact for sublist in fact_categories.values() for fact in sublist]\n",
        "\n",
        "    if not facts_list:\n",
        "        return [\"No facts found for the specified category.\"]\n",
        "\n",
        "    for _ in range(num_facts):\n",
        "        if not facts_list:\n",
        "            break\n",
        "        fact = random.choice(facts_list)\n",
        "        facts.append(fact)\n",
        "        facts_list.remove(fact)\n",
        "    return facts\n",
        "\n",
        "# Function to display facts with category and index\n",
        "def display_facts_with_category(facts):\n",
        "    for i, fact in enumerate(facts):\n",
        "        print(f\"Fact {i+1}: {fact}\")\n",
        "\n",
        "# Get user input for category and number of facts\n",
        "category = input(\"Enter a category (History, Science, Miscellaneous), or leave blank for all categories: \").strip().title()\n",
        "num_facts = input(\"Enter the number of facts you want: \")\n",
        "try:\n",
        "    num_facts = int(num_facts)\n",
        "except ValueError:\n",
        "    num_facts = 1\n",
        "\n",
        "# Generate and display random facts\n",
        "if category not in fact_categories.keys() and category != \"\":\n",
        "    print(\"Invalid category. Please choose from History, Science, or Miscellaneous.\")\n",
        "else:\n",
        "    facts = generate_random_facts(category, num_facts)\n",
        "    print(\"\\nRandom Facts:\")\n",
        "    display_facts_with_category(facts)"
      ],
      "metadata": {
        "colab": {
          "base_uri": "https://localhost:8080/"
        },
        "id": "MpWKr0N-SEEt",
        "outputId": "342282e2-7642-45a9-ed31-b3725775039c"
      },
      "execution_count": 7,
      "outputs": [
        {
          "output_type": "stream",
          "name": "stdout",
          "text": [
            "Enter a category (History, Science, Miscellaneous), or leave blank for all categories: miscellaneous\n",
            "Enter the number of facts you want: 3\n",
            "\n",
            "Random Facts:\n",
            "Fact 1: The world's oldest known recipe is for beer.\n",
            "Fact 2: The Eiffel Tower can be 15 cm taller during the summer.\n",
            "Fact 3: A group of flamingos is called a 'flamboyance'.\n"
          ]
        }
      ]
    },
    {
      "cell_type": "markdown",
      "source": [],
      "metadata": {
        "id": "ua2fzRJsTFZl"
      }
    }
  ]
}